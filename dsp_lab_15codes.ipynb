{
  "nbformat": 4,
  "nbformat_minor": 0,
  "metadata": {
    "colab": {
      "provenance": [],
      "authorship_tag": "ABX9TyNKbdFiBNWzdzGUyZzil2cy",
      "include_colab_link": true
    },
    "kernelspec": {
      "name": "python3",
      "display_name": "Python 3"
    },
    "language_info": {
      "name": "python"
    }
  },
  "cells": [
    {
      "cell_type": "markdown",
      "metadata": {
        "id": "view-in-github",
        "colab_type": "text"
      },
      "source": [
        "<a href=\"https://colab.research.google.com/github/jishu91/lab-dsp-/blob/main/dsp_lab_15codes.ipynb\" target=\"_parent\"><img src=\"https://colab.research.google.com/assets/colab-badge.svg\" alt=\"Open In Colab\"/></a>"
      ]
    },
    {
      "cell_type": "markdown",
      "source": [
        "# New Section"
      ],
      "metadata": {
        "id": "alCzUG6A5WQA"
      }
    },
    {
      "cell_type": "code",
      "source": [
        "import pandas as pd\n",
        "\n",
        "file_name = \"weather.csv\"\n",
        "df = pd.read_csv(file_name)\n"
      ],
      "metadata": {
        "colab": {
          "base_uri": "https://localhost:8080/"
        },
        "id": "9hicTiTa6em_",
        "outputId": "8a758d36-11fc-415e-f972-6aa84c0414bc"
      },
      "execution_count": 1,
      "outputs": [
        {
          "output_type": "stream",
          "name": "stdout",
          "text": [
            "[ 4  7  6  9 15 13 20 22 19 24 30 35 39 32 33 26 44 43 48 37 28 17 11  0\n",
            " 83 70 57 46 41 52 50 63 54  2]\n",
            "Number of times when the weather is exactly Clear: 1326\n"
          ]
        }
      ]
    },
    {
      "cell_type": "code",
      "source": [
        "# Q. 2) Find the number of times when the 'Weather is exactly Clear'.\n",
        "clear_weather_count = df[df['Weather'] == 'Clear'].shape[0]\n",
        "print(\"Number of times when the weather is exactly Clear:\", clear_weather_count)"
      ],
      "metadata": {
        "colab": {
          "base_uri": "https://localhost:8080/"
        },
        "id": "ITUDuwsJg2fq",
        "outputId": "d1daeb5b-e2d8-40b2-e311-1a220e685607"
      },
      "execution_count": 3,
      "outputs": [
        {
          "output_type": "stream",
          "name": "stdout",
          "text": [
            "Number of times when the weather is exactly Clear: 1326\n"
          ]
        }
      ]
    },
    {
      "cell_type": "code",
      "source": [
        "# Q. 1)  Find all the unique 'Wind Speed' values in the data.\n",
        "unique_wind_speed = df['Wind Speed_km/h'].unique()\n",
        "print(unique_wind_speed)"
      ],
      "metadata": {
        "colab": {
          "base_uri": "https://localhost:8080/"
        },
        "id": "mMOToJjOgvZM",
        "outputId": "c143f015-d57c-42bf-8c27-1e8da5eee8ce"
      },
      "execution_count": 2,
      "outputs": [
        {
          "output_type": "stream",
          "name": "stdout",
          "text": [
            "[ 4  7  6  9 15 13 20 22 19 24 30 35 39 32 33 26 44 43 48 37 28 17 11  0\n",
            " 83 70 57 46 41 52 50 63 54  2]\n"
          ]
        }
      ]
    }
  ]
}